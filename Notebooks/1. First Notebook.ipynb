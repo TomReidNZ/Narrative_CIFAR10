{
 "cells": [
  {
   "cell_type": "code",
   "execution_count": null,
   "metadata": {},
   "outputs": [],
   "source": [
    "!pip3 install keras"
   ]
  },
  {
   "cell_type": "code",
   "execution_count": 1,
   "metadata": {},
   "outputs": [],
   "source": [
    "import keras\n",
    "from keras.models import Sequential\n",
    "from keras.utils import np_utils\n",
    "from keras.layers import Dense, Activation, Flatten, Dropout\n",
    "from keras.layers import Conv2D, MaxPooling2D\n",
    "from keras.datasets import cifar10\n",
    "from keras.callbacks import LearningRateScheduler\n",
    "\n",
    "import numpy as np"
   ]
  },
  {
   "cell_type": "code",
   "execution_count": 2,
   "metadata": {},
   "outputs": [],
   "source": [
    "# Load Data\n",
    "\n",
    "(x_train, y_train), (x_test, y_test) = cifar10.load_data()"
   ]
  },
  {
   "cell_type": "code",
   "execution_count": 3,
   "metadata": {},
   "outputs": [],
   "source": [
    "# Data Prep\n",
    "\n",
    "x_train = x_train / 255.0\n",
    "x_test = x_test / 255.0\n",
    "\n",
    "num_classes = 10\n",
    "y_train = np_utils.to_categorical(y_train,num_classes)\n",
    "y_test = np_utils.to_categorical(y_test,num_classes)\n",
    "\n",
    "Input_shape = x_train.shape[1:]"
   ]
  },
  {
   "cell_type": "code",
   "execution_count": 4,
   "metadata": {},
   "outputs": [
    {
     "name": "stdout",
     "output_type": "stream",
     "text": [
      "Epoch 1/40\n",
      "1250/1250 [==============================] - 8s 7ms/step - loss: 1.4997 - accuracy: 0.4515 - val_loss: 1.2436 - val_accuracy: 0.5566\n",
      "Epoch 2/40\n",
      "1250/1250 [==============================] - 8s 7ms/step - loss: 1.0926 - accuracy: 0.6166 - val_loss: 1.0019 - val_accuracy: 0.6480\n",
      "Epoch 3/40\n",
      "1250/1250 [==============================] - 7s 6ms/step - loss: 0.9271 - accuracy: 0.6737 - val_loss: 1.0177 - val_accuracy: 0.6562\n",
      "Epoch 4/40\n",
      "1250/1250 [==============================] - 7s 6ms/step - loss: 0.8201 - accuracy: 0.7145 - val_loss: 0.8750 - val_accuracy: 0.6969\n",
      "Epoch 5/40\n",
      "1250/1250 [==============================] - 8s 7ms/step - loss: 0.7305 - accuracy: 0.7445 - val_loss: 0.8307 - val_accuracy: 0.7130\n",
      "Epoch 6/40\n",
      "1250/1250 [==============================] - 9s 7ms/step - loss: 0.6599 - accuracy: 0.7693 - val_loss: 0.8248 - val_accuracy: 0.7200\n",
      "Epoch 7/40\n",
      "1250/1250 [==============================] - 8s 6ms/step - loss: 0.5894 - accuracy: 0.7934 - val_loss: 0.8167 - val_accuracy: 0.7251\n",
      "Epoch 8/40\n",
      "1250/1250 [==============================] - 8s 6ms/step - loss: 0.5352 - accuracy: 0.8123 - val_loss: 0.8441 - val_accuracy: 0.7204\n",
      "Epoch 9/40\n",
      "1250/1250 [==============================] - 9s 7ms/step - loss: 0.4924 - accuracy: 0.8252 - val_loss: 0.8184 - val_accuracy: 0.7366\n",
      "Epoch 10/40\n",
      "1250/1250 [==============================] - 8s 6ms/step - loss: 0.4430 - accuracy: 0.8439 - val_loss: 0.8565 - val_accuracy: 0.7314\n",
      "Epoch 11/40\n",
      "1250/1250 [==============================] - 7s 5ms/step - loss: 0.3997 - accuracy: 0.8578 - val_loss: 0.9357 - val_accuracy: 0.7298\n",
      "Epoch 12/40\n",
      "1250/1250 [==============================] - 7s 6ms/step - loss: 0.3499 - accuracy: 0.8757 - val_loss: 0.9572 - val_accuracy: 0.7281\n",
      "Epoch 13/40\n",
      "1250/1250 [==============================] - 7s 6ms/step - loss: 0.3200 - accuracy: 0.8863 - val_loss: 1.0194 - val_accuracy: 0.7242\n",
      "Epoch 14/40\n",
      "1250/1250 [==============================] - 7s 6ms/step - loss: 0.2831 - accuracy: 0.8987 - val_loss: 1.0502 - val_accuracy: 0.7341\n",
      "Epoch 15/40\n",
      "1250/1250 [==============================] - 7s 6ms/step - loss: 0.2565 - accuracy: 0.9076 - val_loss: 1.1446 - val_accuracy: 0.7269\n",
      "Epoch 16/40\n",
      "1250/1250 [==============================] - 8s 6ms/step - loss: 0.2299 - accuracy: 0.9186 - val_loss: 1.1760 - val_accuracy: 0.7281\n",
      "Epoch 17/40\n",
      "1250/1250 [==============================] - 7s 6ms/step - loss: 0.2072 - accuracy: 0.9251 - val_loss: 1.2096 - val_accuracy: 0.7262\n",
      "Epoch 18/40\n",
      "1250/1250 [==============================] - 7s 6ms/step - loss: 0.1939 - accuracy: 0.9290 - val_loss: 1.3047 - val_accuracy: 0.7117\n",
      "Epoch 19/40\n",
      "1250/1250 [==============================] - 8s 6ms/step - loss: 0.1788 - accuracy: 0.9347 - val_loss: 1.4479 - val_accuracy: 0.7211\n",
      "Epoch 20/40\n",
      "1250/1250 [==============================] - 7s 6ms/step - loss: 0.1616 - accuracy: 0.9426 - val_loss: 1.4206 - val_accuracy: 0.7176\n",
      "Epoch 21/40\n",
      "1250/1250 [==============================] - 8s 6ms/step - loss: 0.1490 - accuracy: 0.9466 - val_loss: 1.4781 - val_accuracy: 0.7179\n",
      "Epoch 22/40\n",
      "1250/1250 [==============================] - 7s 6ms/step - loss: 0.1491 - accuracy: 0.9470 - val_loss: 1.5932 - val_accuracy: 0.7160\n",
      "Epoch 23/40\n",
      "1250/1250 [==============================] - 8s 6ms/step - loss: 0.1374 - accuracy: 0.9517 - val_loss: 1.6647 - val_accuracy: 0.7177\n",
      "Epoch 24/40\n",
      "1250/1250 [==============================] - 7s 6ms/step - loss: 0.1409 - accuracy: 0.9497 - val_loss: 1.7013 - val_accuracy: 0.7171\n",
      "Epoch 25/40\n",
      "1250/1250 [==============================] - 7s 6ms/step - loss: 0.1207 - accuracy: 0.9566 - val_loss: 1.7022 - val_accuracy: 0.7140\n",
      "Epoch 26/40\n",
      "1250/1250 [==============================] - 7s 6ms/step - loss: 0.1287 - accuracy: 0.9546 - val_loss: 1.7781 - val_accuracy: 0.7208\n",
      "Epoch 27/40\n",
      "1250/1250 [==============================] - 7s 6ms/step - loss: 0.1086 - accuracy: 0.9614 - val_loss: 1.8798 - val_accuracy: 0.7120\n",
      "Epoch 28/40\n",
      "1250/1250 [==============================] - 7s 6ms/step - loss: 0.1208 - accuracy: 0.9573 - val_loss: 2.0038 - val_accuracy: 0.7081\n",
      "Epoch 29/40\n",
      "1250/1250 [==============================] - 7s 6ms/step - loss: 0.1112 - accuracy: 0.9614 - val_loss: 1.9793 - val_accuracy: 0.7136\n",
      "Epoch 30/40\n",
      "1250/1250 [==============================] - 7s 6ms/step - loss: 0.1055 - accuracy: 0.9625 - val_loss: 2.0072 - val_accuracy: 0.7213\n",
      "Epoch 31/40\n",
      "1250/1250 [==============================] - 7s 5ms/step - loss: 0.1067 - accuracy: 0.9617 - val_loss: 2.0408 - val_accuracy: 0.7064\n",
      "Epoch 32/40\n",
      "1250/1250 [==============================] - 7s 6ms/step - loss: 0.1100 - accuracy: 0.9629 - val_loss: 2.3990 - val_accuracy: 0.7012\n",
      "Epoch 33/40\n",
      "1250/1250 [==============================] - 7s 6ms/step - loss: 0.0935 - accuracy: 0.9679 - val_loss: 2.3063 - val_accuracy: 0.6976\n",
      "Epoch 34/40\n",
      "1250/1250 [==============================] - 6s 5ms/step - loss: 0.1082 - accuracy: 0.9639 - val_loss: 2.2498 - val_accuracy: 0.7118\n",
      "Epoch 35/40\n",
      "1250/1250 [==============================] - 7s 6ms/step - loss: 0.0970 - accuracy: 0.9679 - val_loss: 2.2069 - val_accuracy: 0.7082\n",
      "Epoch 36/40\n",
      "1250/1250 [==============================] - 7s 6ms/step - loss: 0.1013 - accuracy: 0.9654 - val_loss: 2.3111 - val_accuracy: 0.7063\n",
      "Epoch 37/40\n",
      "1250/1250 [==============================] - 7s 6ms/step - loss: 0.0906 - accuracy: 0.9696 - val_loss: 2.3506 - val_accuracy: 0.7116\n",
      "Epoch 38/40\n",
      "1250/1250 [==============================] - 7s 6ms/step - loss: 0.1014 - accuracy: 0.9658 - val_loss: 2.3689 - val_accuracy: 0.7084\n",
      "Epoch 39/40\n",
      "1250/1250 [==============================] - 8s 6ms/step - loss: 0.0945 - accuracy: 0.9684 - val_loss: 2.3818 - val_accuracy: 0.7149\n",
      "Epoch 40/40\n",
      "1250/1250 [==============================] - 8s 7ms/step - loss: 0.0952 - accuracy: 0.9687 - val_loss: 2.3889 - val_accuracy: 0.7044\n"
     ]
    }
   ],
   "source": [
    "# Model Architecture\n",
    "\n",
    "model=Sequential()\n",
    "model.add(Conv2D(filters=32,kernel_size=(3,3),activation='relu',input_shape=Input_shape))\n",
    "model.add(MaxPooling2D(2,2))\n",
    "# model1.add(Dropout(0.1))\n",
    "\n",
    "model.add(Conv2D(filters=64,kernel_size=(3,3),activation='relu', padding='same'))\n",
    "model.add(MaxPooling2D(2,2))\n",
    "# model1.add(Dropout(0.15))\n",
    "\n",
    "model.add(Conv2D(filters=64,kernel_size=(3,3),activation='relu', padding='same'))\n",
    "model.add(MaxPooling2D(2,2))\n",
    "# model1.add(Dropout(0.2))\n",
    "\n",
    "\n",
    "model.add(Flatten())\n",
    "model.add(Dense(units=128, activation='relu'))\n",
    "model.add(Dense(units=10,activation='softmax'))\n",
    "model.compile(loss='categorical_crossentropy',optimizer='adam',metrics=['accuracy'])\n",
    "history=model.fit(x_train,y_train, batch_size=32,validation_split=0.2,epochs=40,shuffle=True)"
   ]
  },
  {
   "cell_type": "code",
   "execution_count": 5,
   "metadata": {},
   "outputs": [
    {
     "name": "stdout",
     "output_type": "stream",
     "text": [
      "313/313 [==============================] - 1s 5ms/step - loss: 2.5079 - accuracy: 0.6956\n",
      "Test loss: 2.5079100131988525\n",
      "Test accuracy: 0.6955999732017517\n"
     ]
    }
   ],
   "source": [
    "scores = model.evaluate(x_test, y_test, verbose=1)\n",
    "print('Test loss:', scores[0])\n",
    "print('Test accuracy:', scores[1])"
   ]
  },
  {
   "cell_type": "code",
   "execution_count": null,
   "metadata": {},
   "outputs": [],
   "source": []
  }
 ],
 "metadata": {
  "kernelspec": {
   "display_name": "Python 3",
   "language": "python",
   "name": "python3"
  },
  "language_info": {
   "codemirror_mode": {
    "name": "ipython",
    "version": 3
   },
   "file_extension": ".py",
   "mimetype": "text/x-python",
   "name": "python",
   "nbconvert_exporter": "python",
   "pygments_lexer": "ipython3",
   "version": "3.6.9"
  }
 },
 "nbformat": 4,
 "nbformat_minor": 4
}
